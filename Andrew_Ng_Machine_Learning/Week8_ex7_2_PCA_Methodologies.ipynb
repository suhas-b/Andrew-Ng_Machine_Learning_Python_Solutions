{
 "cells": [
  {
   "cell_type": "markdown",
   "metadata": {},
   "source": [
    "# PRINCIPAL COMPONENT ANALYSIS - DIFFERENT APPROACHES"
   ]
  },
  {
   "cell_type": "code",
   "execution_count": 170,
   "metadata": {},
   "outputs": [],
   "source": [
    "import numpy as np\n",
    "import pandas as pd\n",
    "import matplotlib.pyplot as plt\n",
    "import seaborn as sns\n",
    "%matplotlib inline\n",
    "from scipy.io import loadmat"
   ]
  },
  {
   "cell_type": "code",
   "execution_count": 171,
   "metadata": {},
   "outputs": [],
   "source": [
    "data1 = loadmat('ex7data1.mat')"
   ]
  },
  {
   "cell_type": "code",
   "execution_count": 172,
   "metadata": {},
   "outputs": [
    {
     "data": {
      "image/png": "[encoded data removed]",
      "text/plain": [
       "<Figure size 432x288 with 1 Axes>"
      ]
     },
     "metadata": {
      "needs_background": "light"
     },
     "output_type": "display_data"
    },
    {
     "name": "stdout",
     "output_type": "stream",
     "text": [
      "The size of X as in data1 is (50, 2)\n"
     ]
    }
   ],
   "source": [
    "X = data1['X']\n",
    "fig, ax = plt.subplots(1,1)\n",
    "ax.scatter(X[:,0], X[:,1])\n",
    "plt.show()\n",
    "\n",
    "print(f'The size of X as in data1 is {X.shape}')"
   ]
  },
  {
   "cell_type": "markdown",
   "metadata": {},
   "source": [
    "## METHOD 1: PCA using Manual Eigen Calculation"
   ]
  },
  {
   "cell_type": "markdown",
   "metadata": {},
   "source": [
    "#### Setting up Data and Co-Variance Matrix"
   ]
  },
  {
   "cell_type": "code",
   "execution_count": 173,
   "metadata": {},
   "outputs": [],
   "source": [
    "X = data1['X']\n",
    "X_norm = (X - np.mean(X, axis = 0))/np.std(X, axis=0)"
   ]
  },
  {
   "cell_type": "code",
   "execution_count": 174,
   "metadata": {},
   "outputs": [
    {
     "data": {
      "text/plain": [
       "array([[1.        , 0.73553038],\n",
       "       [0.73553038, 1.        ]])"
      ]
     },
     "execution_count": 174,
     "metadata": {},
     "output_type": "execute_result"
    }
   ],
   "source": [
    "m, n  = X.shape\n",
    "X_cov = 1/m * X_norm.T.dot(X_norm)\n",
    "X_cov"
   ]
  },
  {
   "cell_type": "markdown",
   "metadata": {},
   "source": [
    "#### Calculating the Eigen Values and Eigen Vectors"
   ]
  },
  {
   "cell_type": "code",
   "execution_count": 175,
   "metadata": {},
   "outputs": [
    {
     "name": "stdout",
     "output_type": "stream",
     "text": [
      "The given data has two features (columns) which means it will have 2 eigen values and 2 eigen vectors.\n",
      "The eigen values are 1.7355 and 0.2645 and are sorted from high to low.\n",
      "\n",
      "Eigen vector corresponding to first Eigen value is:\n",
      " [[0.70710678]\n",
      " [0.70710678]] with shape (2, 1)\n",
      "\n",
      "Eigen vector corresponding to second Eigen value is:\n",
      " [[-0.70710678]\n",
      " [ 0.70710678]] with shape (2, 1)\n",
      "\n",
      "The dot product of the two eigen vectors is 0.0 indicating they are orthogonal.\n"
     ]
    }
   ],
   "source": [
    "eig_vals, eig_vecs = np.linalg.eig(X_cov)\n",
    "\n",
    "lambda_1 = eig_vals[0]\n",
    "evec_1 = eig_vecs[:,0].reshape(n,1)\n",
    "\n",
    "lambda_2 = eig_vals[1]\n",
    "evec_2 = eig_vecs[:,1].reshape(n,1)\n",
    "\n",
    "evec = np.append(evec_1, evec_2)\n",
    "ortho = eig_vecs[0].dot(eig_vecs[1])\n",
    "\n",
    "\n",
    "print(f'The given data has two features (columns) which means it will have 2 eigen values and 2 eigen vectors.\\\n",
    "\\nThe eigen values are {lambda_1.round(4)} and {lambda_2.round(4)} and are sorted from high to low.\\\n",
    "\\n\\nEigen vector corresponding to first Eigen value is:\\n {evec_1} with shape {evec_1.shape}\\\n",
    "\\n\\nEigen vector corresponding to second Eigen value is:\\n {evec_2} with shape {evec_2.shape}\\\n",
    "\\n\\nThe dot product of the two eigen vectors is {ortho} indicating they are orthogonal.')"
   ]
  },
  {
   "cell_type": "markdown",
   "metadata": {},
   "source": [
    "#### Dimensionality Reduction using Principal Component(s)"
   ]
  },
  {
   "cell_type": "code",
   "execution_count": 176,
   "metadata": {},
   "outputs": [
    {
     "name": "stdout",
     "output_type": "stream",
     "text": [
      "Projections of first five training examples:\n",
      "[[-1.49631261]\n",
      " [ 0.92218067]\n",
      " [-1.22439232]\n",
      " [-1.64386173]\n",
      " [-1.2732206 ]]\n",
      "\n",
      "Reconstruction from first PC shown for first five training examples:\n",
      "[[-1.05805279 -1.05805279]\n",
      " [ 0.65208021  0.65208021]\n",
      " [-0.86577611 -0.86577611]\n",
      " [-1.16238578 -1.16238578]\n",
      " [-0.90030292 -0.90030292]]\n"
     ]
    },
    {
     "data": {
      "image/png": "[encoded data removed]",
      "text/plain": [
       "<Figure size 720x432 with 1 Axes>"
      ]
     },
     "metadata": {
      "needs_background": "light"
     },
     "output_type": "display_data"
    }
   ],
   "source": [
    "# Data Projection from first Eigen Vector --> First Princiapal Component (PC)\n",
    "z_p1 = X_norm.dot(evec_1)\n",
    "print(f'Projections of first five training examples:\\n{z_p1[:5]}')\n",
    "\n",
    "# Approx. Reconstruction of Original Data and Visualisation using FIRST PC \n",
    "X_rec = z_p1.dot(evec_1.T)\n",
    "print(f'\\nReconstruction from first PC shown for first five training examples:\\n{X_rec[:5]}')\n",
    "\n",
    "fig, ax = plt.subplots(1,1, figsize=(10,6))\n",
    "ax.scatter(X_norm[:,0], X_norm[:,1], label='Normalised Original Dataset')\n",
    "ax.scatter(X_rec[:,0], X_rec[:,1], label = 'Reconstructed Data')\n",
    "ax.set_title('Reduced and Reconstructed data using FIRST PRINCIPAL COMPONENT')\n",
    "\n",
    "ax.legend()\n",
    "plt.show()"
   ]
  },
  {
   "cell_type": "code",
   "execution_count": 177,
   "metadata": {},
   "outputs": [
    {
     "name": "stdout",
     "output_type": "stream",
     "text": [
      "Projections of first five training examples:\n",
      "[[-0.75623618]\n",
      " [ 0.26624695]\n",
      " [ 0.39968108]\n",
      " [-0.15320465]\n",
      " [ 0.11839619]]\n",
      "\n",
      "Reconstruction from second PC shown for first five training examples:\n",
      "[[ 0.53473973 -0.53473973]\n",
      " [-0.18826502  0.18826502]\n",
      " [-0.2826172   0.2826172 ]\n",
      " [ 0.10833205 -0.10833205]\n",
      " [-0.08371875  0.08371875]]\n"
     ]
    },
    {
     "data": {
      "image/png": "[encoded data removed]",
      "text/plain": [
       "<Figure size 720x432 with 1 Axes>"
      ]
     },
     "metadata": {
      "needs_background": "light"
     },
     "output_type": "display_data"
    }
   ],
   "source": [
    "# Data Projection from second Eigen Vector --> Second Princiapal Component (PC)\n",
    "z_p2 = X_norm.dot(evec_2)\n",
    "print(f'Projections of first five training examples:\\n{z_p2[:5]}')\n",
    "\n",
    "# Approx. Reconstruction of Original Data and Visualisation using SECOND PC \n",
    "X_rec = z_p2.dot(evec_2.T)\n",
    "print(f'\\nReconstruction from second PC shown for first five training examples:\\n{X_rec[:5]}')\n",
    "\n",
    "fig, ax = plt.subplots(1,1, figsize=(10,6))\n",
    "ax.scatter(X_norm[:,0], X_norm[:,1], label='Normalised Original Dataset')\n",
    "ax.scatter(X_rec[:,0], X_rec[:,1], label = 'Reconstructed Data')\n",
    "ax.set_title('Reduced and Reconstructed data using SECOND PRINCIPAL COMPONENT')\n",
    "\n",
    "ax.legend()\n",
    "plt.show()"
   ]
  },
  {
   "cell_type": "markdown",
   "metadata": {},
   "source": [
    "## METHOD 2: PCA using Eigen Decomposition of Co-variance Matrix (EVD)"
   ]
  },
  {
   "cell_type": "code",
   "execution_count": 178,
   "metadata": {},
   "outputs": [
    {
     "data": {
      "text/plain": [
       "array([[1.        , 0.73553038],\n",
       "       [0.73553038, 1.        ]])"
      ]
     },
     "execution_count": 178,
     "metadata": {},
     "output_type": "execute_result"
    }
   ],
   "source": [
    "X_cov"
   ]
  },
  {
   "cell_type": "code",
   "execution_count": 179,
   "metadata": {},
   "outputs": [],
   "source": [
    "U, S, VT = np.linalg.svd(X_cov)"
   ]
  },
  {
   "cell_type": "code",
   "execution_count": 180,
   "metadata": {},
   "outputs": [
    {
     "name": "stdout",
     "output_type": "stream",
     "text": [
      "The obtained Eigen Values are 1.7355303763393295 and 0.26446962366067056.\n",
      "The Eigen vectors are [-0.70710678 -0.70710678] and [-0.70710678  0.70710678].\n",
      "\n",
      "We observe that these values match with those done previously numerically. In the previous method, if \"eigh\" option is used instead of \"eig\", then the signs will also match.\n",
      "The projection and reconstruction is similar to the above method. Only the vector names will change.\n",
      "\n",
      "To Summarise:\n",
      "S Matrix of EVD = Eigen values from \"eig\" method.\n",
      "VT matrix of EVD = Eigen vectors obtained from \"eigh\" method.\n"
     ]
    }
   ],
   "source": [
    "print(f'The obtained Eigen Values are {S[0]} and {S[1]}.\\\n",
    "\\nThe Eigen vectors are {VT[:,0]} and {VT[:,1]}.\\\n",
    "\\n\\nWe observe that these values match with those done previously numerically. In the previous \\\n",
    "method, if \"eigh\" option is used instead of \"eig\", then the signs will also match.\\\n",
    "\\nThe projection and reconstruction is similar to the above method. Only the vector names will change.\\\n",
    "\\n\\nTo Summarise:\\nS Matrix of EVD = Eigen values from \"eig\" method.\\\n",
    "\\nVT matrix of EVD = Eigen vectors obtained from \"eigh\" method.')"
   ]
  },
  {
   "cell_type": "markdown",
   "metadata": {},
   "source": [
    "## METHOD 3: PCA using Single Value Decomposition (SVD)\n",
    "\n",
    "<blockquote>\n",
    "Additional Details:<br>\n",
    "<a>https://stats.stackexchange.com/questions/134282/relationship-between-svd-and-pca-how-to-use-svd-to-perform-pca</a>"
   ]
  },
  {
   "cell_type": "code",
   "execution_count": 181,
   "metadata": {},
   "outputs": [
    {
     "data": {
      "text/plain": [
       "array([[-0.52331306, -1.59279252],\n",
       "       [ 0.46381518,  0.84034523],\n",
       "       [-1.14839331, -0.58315891],\n",
       "       [-1.05405373, -1.27071783],\n",
       "       [-0.98402167, -0.81658417]])"
      ]
     },
     "execution_count": 181,
     "metadata": {},
     "output_type": "execute_result"
    }
   ],
   "source": [
    "X_norm[:5]"
   ]
  },
  {
   "cell_type": "code",
   "execution_count": 182,
   "metadata": {},
   "outputs": [],
   "source": [
    "U, S, VT = np.linalg.svd(X_norm)"
   ]
  },
  {
   "cell_type": "code",
   "execution_count": 183,
   "metadata": {},
   "outputs": [
    {
     "name": "stdout",
     "output_type": "stream",
     "text": [
      "The obtained Singular Values are 9.315391501003406 and 3.6364104805472013.\n",
      "The relation b/w Singular Values of SVD and Eigen Values are in the web-page.\n",
      "\n",
      "The Right Singular Matrix Columns are [0.70710678 0.70710678] and [ 0.70710678 -0.70710678].\n",
      "We observe that these values match with those done previously numerically and symbolically. Hence, the right singular matrixis nothing but the Eigen Vectors.\n",
      "\n",
      "To Summarise:\n",
      "S Matrix of SVD = Singular Values.\n",
      "VT matrix (Right Singular) of SVD = Eigen vectors obtained from \"eigh\" method.\n",
      "\n",
      "DIRECT SVD CAN BE ONLY DONE WHEN THE DATA SET IS MEAN CENTERED AND PREFERABLY STANDARDISED.\n"
     ]
    }
   ],
   "source": [
    "print(f'The obtained Singular Values are {S[0]} and {S[1]}.\\\n",
    "\\nThe relation b/w Singular Values of SVD and Eigen Values are in the web-page.\\\n",
    "\\n\\nThe Right Singular Matrix Columns are {VT[:,0]} and {VT[:,1]}.\\\n",
    "\\nWe observe that these values match with those done previously numerically and symbolically. Hence, the right singular matrix\\\n",
    "is nothing but the Eigen Vectors.\\\n",
    "\\n\\nTo Summarise:\\nS Matrix of SVD = Singular Values.\\\n",
    "\\nVT matrix (Right Singular) of SVD = Eigen vectors obtained from \"eigh\" method.\\\n",
    "\\n\\nDIRECT SVD CAN BE ONLY DONE WHEN THE DATA SET IS MEAN CENTERED AND PREFERABLY STANDARDISED.')"
   ]
  },
  {
   "cell_type": "markdown",
   "metadata": {},
   "source": [
    "#### Calculation of Eigen Values from Singular Values"
   ]
  },
  {
   "cell_type": "code",
   "execution_count": 184,
   "metadata": {},
   "outputs": [],
   "source": [
    "S = S.reshape(-1,1)\n",
    "sigma_sqr = S**2"
   ]
  },
  {
   "cell_type": "code",
   "execution_count": 185,
   "metadata": {},
   "outputs": [
    {
     "name": "stdout",
     "output_type": "stream",
     "text": [
      "The derived Eigen Values are [1.73553038] and [0.26446962].\n",
      "These match with the manually calculated values.\n"
     ]
    }
   ],
   "source": [
    "eig_derived = (1/len(X_norm)) * sigma_sqr\n",
    "print(f'The derived Eigen Values are {eig_derived[0]} and {eig_derived[1]}.\\\n",
    "\\nThese match with the manually calculated values.')"
   ]
  },
  {
   "cell_type": "markdown",
   "metadata": {},
   "source": [
    "#### Dimensionality Reduction and Projection Matrix (z)\n",
    "<blockquote>\n",
    "As Right Singular Matrix are the Eigen Vectors, dimensionlaity reduction and reconstruction can be done using dot product of VT and X_norm to get the projection vectors z and later reconstruction using z. This is similar to the regular approach.<br><br>\n",
    "Alternative approach is to get the projection matrix z is by using the dot product of 'k' columns of U with k x k singular values as shown."
   ]
  },
  {
   "cell_type": "code",
   "execution_count": 186,
   "metadata": {},
   "outputs": [
    {
     "name": "stdout",
     "output_type": "stream",
     "text": [
      "The first column of left Singular Matrix U is (dot) multiplied with the first Singular value to get the first PrincipalProjection Matrix z.\n",
      "These results match exactly with the Method-1 First Principal Projection Matrix.\n",
      "\n",
      "The first five examples of the projection vector is :\n",
      "[[-1.49631261]\n",
      " [ 0.92218067]\n",
      " [-1.22439232]\n",
      " [-1.64386173]\n",
      " [-1.2732206 ]]\n"
     ]
    }
   ],
   "source": [
    "m, n = X_norm.shape\n",
    "z_p1 = (U[:,0].reshape(-1,1).dot(S[0])).reshape(m,1)\n",
    "print('The first column of left Singular Matrix U is (dot) multiplied with the first Singular value to get the first Principal\\\n",
    "Projection Matrix z.\\nThese results match exactly with the Method-1 First Principal Projection Matrix.')\n",
    "print(f'\\nThe first five examples of the projection vector is :\\n{z_p1[:5]}')"
   ]
  },
  {
   "cell_type": "markdown",
   "metadata": {},
   "source": [
    "#### Reconstruction Matrix from decomposed matrices U, S and VT\n",
    "<blockquote>For a certain selection of columns 'k' in the left singular matrix U, corresponding columns in the Singular value and Right singular matrix can be taken to get the aprrox. reconstruction of the Original matrix.<br><br>\n",
    "For example, first column of matrix U; first (highest) Singular value and the first column of matrix V (transpose) will give the approx. reconstruction data based on the FIRST PRINCIPAL COMPONENT.<br><br>\n",
    "Taking the second column data from matrix U will give reconstruction from SECOND PRINCIPAL COMPONENT.<br><br>\n",
    "Note that all columns of U from 3 to 50 will not contribute to the reconstruction as the Singular Value matrix has zeros."
   ]
  },
  {
   "cell_type": "code",
   "execution_count": 187,
   "metadata": {},
   "outputs": [
    {
     "name": "stdout",
     "output_type": "stream",
     "text": [
      "The first five training sets of the reconstructed matrix is:\n",
      " [[-1.05805279 -1.05805279]\n",
      " [ 0.65208021  0.65208021]\n",
      " [-0.86577611 -0.86577611]\n",
      " [-1.16238578 -1.16238578]\n",
      " [-0.90030292 -0.90030292]]\n",
      "\n",
      "The first five training sets of the reconstructed matrix is:\n",
      " [[ 0.53473973 -0.53473973]\n",
      " [-0.18826502  0.18826502]\n",
      " [-0.2826172   0.2826172 ]\n",
      " [ 0.10833205 -0.10833205]\n",
      " [-0.08371875  0.08371875]]\n"
     ]
    },
    {
     "data": {
      "image/png": "[encoded data removed]",
      "text/plain": [
       "<Figure size 720x432 with 1 Axes>"
      ]
     },
     "metadata": {
      "needs_background": "light"
     },
     "output_type": "display_data"
    },
    {
     "name": "stdout",
     "output_type": "stream",
     "text": [
      "It may appear from the plot that the two principal comopnents are not orthogonal to each other.\n",
      "This is not true and can be verified using orthogonality check.\n"
     ]
    }
   ],
   "source": [
    "U_PC1 = U[:,0].reshape(-1,1)\n",
    "S_PC1 = S[0].reshape(-1,1)\n",
    "VT_PC1 = VT[:,0].reshape(-1,1)\n",
    "\n",
    "X_rec_PC1 = (U_PC1.dot(S_PC1)).dot(VT_PC1.T)\n",
    "print(f'The first five training sets of the reconstructed matrix is:\\n {X_rec_PC1[:5]}')\n",
    "\n",
    "U_PC2 = U[:,1].reshape(-1,1)\n",
    "S_PC2 = S[1].reshape(-1,1)\n",
    "VT_PC2 = VT[:,1].reshape(-1,1)\n",
    "\n",
    "X_rec_PC2 = (U_PC2.dot(S_PC2)).dot(VT_PC2.T)\n",
    "print(f'\\nThe first five training sets of the reconstructed matrix is:\\n {X_rec_PC2[:5]}')\n",
    "\n",
    "####################################################################################################\n",
    "\n",
    "fig, ax = plt.subplots(1,1, figsize=(10,6))\n",
    "ax.scatter(X_norm[:,0], X_norm[:,1], label='Normalised Original Dataset', color='blue')\n",
    "ax.scatter(X_rec_PC1[:,0], X_rec_PC1[:,1], label = 'Reconstructed Data using SVD (PC1)', color='orange')\n",
    "ax.scatter(X_rec_PC2[:,0], X_rec_PC2[:,1], label = 'Reconstructed Data using SVD (PC2)', color='darkgreen')\n",
    "ax.set_title('Reduced and Reconstructed data')\n",
    "\n",
    "ax.legend()\n",
    "plt.show()\n",
    "\n",
    "print(f'It may appear from the plot that the two principal comopnents are not orthogonal to each other.\\\n",
    "\\nThis is not true and can be verified using orthogonality check.')"
   ]
  },
  {
   "cell_type": "markdown",
   "metadata": {},
   "source": [
    "#### Orthogonality Check\n",
    "<blockquote>We know that the co-variance matrix of the training set is Symmetric.<br>\n",
    "It can be considered that the first column of VT is the eigen vector of matrix X_norm while the second column corresponds to the eigen vector of the transpose of X_norm.<br><br>\n",
    "<b><i>Thus, the dot product of the columns of the Right Singular Matrix VT is zero. This means that the Principal Components are Orthogonal.</i></b>"
   ]
  },
  {
   "cell_type": "code",
   "execution_count": 188,
   "metadata": {},
   "outputs": [
    {
     "name": "stdout",
     "output_type": "stream",
     "text": [
      "The product of the Eigen vectors is 0. This makes the Principal Components Orthogonal.\n"
     ]
    }
   ],
   "source": [
    "eig_1 = VT[:,0].reshape(2,1)\n",
    "eig_2 = VT[:,1].reshape(2,1)\n",
    "\n",
    "ortho = eig_1.T.dot(eig_2)\n",
    "print(f'The product of the Eigen vectors is {int(ortho)}. This makes the Principal Components Orthogonal.')"
   ]
  },
  {
   "cell_type": "markdown",
   "metadata": {},
   "source": [
    "### TO SUMMARISE:\n",
    "#### 1. It is recommended to perform PCA using the direct Eigen Value approach or SVD on the mean centered data.\n",
    "#### 2. The results from Direct Eigen Values and Direct SVD match exactly and identically.\n",
    "#### 3. Eigen-value decomposition of the co-variance matrix can be avoided.\n",
    "#### 4. Scikit learn PCA module is also based on SVD."
   ]
  },
  {
   "cell_type": "markdown",
   "metadata": {},
   "source": [
    "#### Other Data"
   ]
  },
  {
   "cell_type": "code",
   "execution_count": 189,
   "metadata": {},
   "outputs": [],
   "source": [
    "# def feat_norm(X):\n",
    "#     mu = np.mean(X, axis=0)\n",
    "#     std = np.std(X, axis=0)\n",
    "#     X_norm = (X - mu)/std\n",
    "#     return X_norm, mu, std\n",
    "\n",
    "# from numpy.linalg import svd\n",
    "\n",
    "# def pca(X):\n",
    "#     X_norm, mu, sigma = feat_norm(X)\n",
    "#     m,n = X.shape\n",
    "#     Co_M = (1/m) * (X_norm.T.dot(X_norm))\n",
    "    \n",
    "#     U, S, V = svd(Co_M)\n",
    "    \n",
    "#     return U, S, V, X_norm, mu\n",
    "\n",
    "# def project_Z(X, U, k):\n",
    "#     U_reduced = U[:,:k]\n",
    "#     z = X.dot(U_reduced)\n",
    "#     return z\n",
    "\n",
    "# def recover_U(z, U, k):\n",
    "#     U_reduced = U[:,:k]\n",
    "#     U_rec = z.dot(U_reduced.T)\n",
    "#     return U_rec"
   ]
  },
  {
   "cell_type": "code",
   "execution_count": null,
   "metadata": {},
   "outputs": [],
   "source": []
  }
 ],
 "metadata": {
  "kernelspec": {
   "display_name": "Python 3",
   "language": "python",
   "name": "python3"
  },
  "language_info": {
   "codemirror_mode": {
    "name": "ipython",
    "version": 3
   },
   "file_extension": ".py",
   "mimetype": "text/x-python",
   "name": "python",
   "nbconvert_exporter": "python",
   "pygments_lexer": "ipython3",
   "version": "3.7.6"
  }
 },
 "nbformat": 4,
 "nbformat_minor": 4
}
